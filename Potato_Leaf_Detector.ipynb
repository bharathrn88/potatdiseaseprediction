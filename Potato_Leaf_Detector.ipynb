{
 "cells": [
  {
   "cell_type": "code",
   "execution_count": 40,
   "metadata": {},
   "outputs": [],
   "source": [
    "import tensorflow as tf\n",
    "import matplotlib.pyplot as plt \n",
    "import pandas as pd\n",
    "import os\n",
    "import seaborn as sns\n"
   ]
  },
  {
   "cell_type": "code",
   "execution_count": 41,
   "metadata": {},
   "outputs": [
    {
     "name": "stdout",
     "output_type": "stream",
     "text": [
      "Current Working Directory: c:\\Users\\bhara_\\Potato_Leaf_Detector\n"
     ]
    }
   ],
   "source": [
    "print(\"Current Working Directory:\", os.getcwd())\n",
    "current_directory = os.getcwd()\n",
    "train_path = os.path.join(current_directory, \"dataset\",\"Train\")\n",
    "valid_path = os.path.join(current_directory, \"dataset\",\"Valid\")\n",
    "test_path = os.path.join(current_directory, \"dataset\",\"Test\")"
   ]
  },
  {
   "cell_type": "code",
   "execution_count": 42,
   "metadata": {},
   "outputs": [
    {
     "name": "stdout",
     "output_type": "stream",
     "text": [
      "Found 900 files belonging to 3 classes.\n"
     ]
    }
   ],
   "source": [
    "# function used to create an image data from the directory structure\n",
    "training_data = tf.keras.utils.image_dataset_from_directory(\n",
    "    train_path,\n",
    "    labels='inferred',\n",
    "    label_mode='categorical',\n",
    "    class_names=None,\n",
    "    color_mode='rgb',\n",
    "    # batch_size=32,\n",
    "    image_size=(128, 128),\n",
    "    shuffle=True,\n",
    "    # seed=None,\n",
    "    #validation_split=None,\n",
    "    #subset=None,\n",
    "    interpolation='bilinear',\n",
    "    #follow_links=False,\n",
    "    # crop_to_aspect_ratio=False\n",
    ")"
   ]
  },
  {
   "cell_type": "code",
   "execution_count": 43,
   "metadata": {},
   "outputs": [
    {
     "name": "stdout",
     "output_type": "stream",
     "text": [
      "Found 300 files belonging to 3 classes.\n"
     ]
    }
   ],
   "source": [
    "# function used to create an image data from the directory structure\n",
    "validation_data = tf.keras.utils.image_dataset_from_directory(\n",
    "    valid_path,\n",
    "    labels='inferred',\n",
    "    label_mode='categorical',\n",
    "    class_names=None,\n",
    "    color_mode='rgb',\n",
    "    # batch_size=32,\n",
    "    image_size=(128, 128),\n",
    "    shuffle=True,\n",
    "    # seed=None,\n",
    "    #validation_split=None,\n",
    "    #subset=None,\n",
    "    interpolation='bilinear',\n",
    "    #follow_links=False,\n",
    "    # crop_to_aspect_ratio=False\n",
    ")"
   ]
  },
  {
   "cell_type": "code",
   "execution_count": 44,
   "metadata": {},
   "outputs": [],
   "source": [
    "validation_set = validation_data\n",
    "training_set = training_data\n"
   ]
  },
  {
   "cell_type": "code",
   "execution_count": 45,
   "metadata": {},
   "outputs": [],
   "source": [
    "cnn = tf.keras.models.Sequential()\n",
    "\n",
    "# Block 1\n",
    "cnn.add(tf.keras.layers.Conv2D(filters=32, kernel_size=3, padding='same', activation='relu', input_shape=[128,128,3]))\n",
    "cnn.add(tf.keras.layers.Conv2D(filters=32, kernel_size=3, activation='relu'))\n",
    "cnn.add(tf.keras.layers.BatchNormalization())\n",
    "cnn.add(tf.keras.layers.MaxPool2D(pool_size=2, strides=2))\n",
    "\n",
    "# Block 2\n",
    "cnn.add(tf.keras.layers.Conv2D(filters=64, kernel_size=3, padding='same', activation='relu'))\n",
    "cnn.add(tf.keras.layers.Conv2D(filters=64, kernel_size=3, activation='relu'))\n",
    "cnn.add(tf.keras.layers.BatchNormalization())\n",
    "cnn.add(tf.keras.layers.MaxPool2D(pool_size=2, strides=2))\n",
    "\n",
    "# Block 3\n",
    "cnn.add(tf.keras.layers.Conv2D(filters=128, kernel_size=3, padding='same', activation='relu'))\n",
    "cnn.add(tf.keras.layers.Conv2D(filters=128, kernel_size=3, activation='relu'))\n",
    "cnn.add(tf.keras.layers.BatchNormalization())\n",
    "cnn.add(tf.keras.layers.MaxPool2D(pool_size=2, strides=2))\n",
    "\n",
    "# Block 4\n",
    "cnn.add(tf.keras.layers.Conv2D(filters=256, kernel_size=3, padding='same', activation='relu'))\n",
    "cnn.add(tf.keras.layers.Conv2D(filters=256, kernel_size=3, activation='relu'))\n",
    "cnn.add(tf.keras.layers.BatchNormalization())\n",
    "cnn.add(tf.keras.layers.MaxPool2D(pool_size=2, strides=2))\n",
    "\n",
    "# Block 5\n",
    "cnn.add(tf.keras.layers.Conv2D(filters=512, kernel_size=3, padding='same', activation='relu'))\n",
    "cnn.add(tf.keras.layers.Conv2D(filters=512, kernel_size=3, activation='relu'))\n",
    "cnn.add(tf.keras.layers.BatchNormalization())\n",
    "cnn.add(tf.keras.layers.MaxPool2D(pool_size=2, strides=2))\n",
    "\n",
    "# Dropout\n",
    "cnn.add(tf.keras.layers.Dropout(0.25))\n",
    "\n",
    "# Global Average Pooling (Better than Flatten for large models)\n",
    "cnn.add(tf.keras.layers.GlobalAveragePooling2D())\n",
    "\n",
    "# Fully Connected Layer\n",
    "cnn.add(tf.keras.layers.Dense(units=1500, activation='relu'))\n",
    "cnn.add(tf.keras.layers.Dropout(0.4))\n",
    "\n",
    "# Output Layer\n",
    "cnn.add(tf.keras.layers.Dense(units=3, activation='softmax'))\n"
   ]
  },
  {
   "cell_type": "code",
   "execution_count": 46,
   "metadata": {},
   "outputs": [],
   "source": [
    "cnn.compile(optimizer=tf.keras.optimizers.Adam(\n",
    "    learning_rate=0.0001),loss='categorical_crossentropy',metrics=['accuracy'])\n"
   ]
  },
  {
   "cell_type": "code",
   "execution_count": 47,
   "metadata": {},
   "outputs": [
    {
     "name": "stdout",
     "output_type": "stream",
     "text": [
      "Model: \"sequential_4\"\n",
      "_________________________________________________________________\n",
      " Layer (type)                Output Shape              Param #   \n",
      "=================================================================\n",
      " conv2d_40 (Conv2D)          (None, 128, 128, 32)      896       \n",
      "                                                                 \n",
      " conv2d_41 (Conv2D)          (None, 126, 126, 32)      9248      \n",
      "                                                                 \n",
      " batch_normalization_20 (Ba  (None, 126, 126, 32)      128       \n",
      " tchNormalization)                                               \n",
      "                                                                 \n",
      " max_pooling2d_20 (MaxPooli  (None, 63, 63, 32)        0         \n",
      " ng2D)                                                           \n",
      "                                                                 \n",
      " conv2d_42 (Conv2D)          (None, 63, 63, 64)        18496     \n",
      "                                                                 \n",
      " conv2d_43 (Conv2D)          (None, 61, 61, 64)        36928     \n",
      "                                                                 \n",
      " batch_normalization_21 (Ba  (None, 61, 61, 64)        256       \n",
      " tchNormalization)                                               \n",
      "                                                                 \n",
      " max_pooling2d_21 (MaxPooli  (None, 30, 30, 64)        0         \n",
      " ng2D)                                                           \n",
      "                                                                 \n",
      " conv2d_44 (Conv2D)          (None, 30, 30, 128)       73856     \n",
      "                                                                 \n",
      " conv2d_45 (Conv2D)          (None, 28, 28, 128)       147584    \n",
      "                                                                 \n",
      " batch_normalization_22 (Ba  (None, 28, 28, 128)       512       \n",
      " tchNormalization)                                               \n",
      "                                                                 \n",
      " max_pooling2d_22 (MaxPooli  (None, 14, 14, 128)       0         \n",
      " ng2D)                                                           \n",
      "                                                                 \n",
      " conv2d_46 (Conv2D)          (None, 14, 14, 256)       295168    \n",
      "                                                                 \n",
      " conv2d_47 (Conv2D)          (None, 12, 12, 256)       590080    \n",
      "                                                                 \n",
      " batch_normalization_23 (Ba  (None, 12, 12, 256)       1024      \n",
      " tchNormalization)                                               \n",
      "                                                                 \n",
      " max_pooling2d_23 (MaxPooli  (None, 6, 6, 256)         0         \n",
      " ng2D)                                                           \n",
      "                                                                 \n",
      " conv2d_48 (Conv2D)          (None, 6, 6, 512)         1180160   \n",
      "                                                                 \n",
      " conv2d_49 (Conv2D)          (None, 4, 4, 512)         2359808   \n",
      "                                                                 \n",
      " batch_normalization_24 (Ba  (None, 4, 4, 512)         2048      \n",
      " tchNormalization)                                               \n",
      "                                                                 \n",
      " max_pooling2d_24 (MaxPooli  (None, 2, 2, 512)         0         \n",
      " ng2D)                                                           \n",
      "                                                                 \n",
      " dropout_8 (Dropout)         (None, 2, 2, 512)         0         \n",
      "                                                                 \n",
      " global_average_pooling2d_4  (None, 512)               0         \n",
      "  (GlobalAveragePooling2D)                                       \n",
      "                                                                 \n",
      " dense_8 (Dense)             (None, 1500)              769500    \n",
      "                                                                 \n",
      " dropout_9 (Dropout)         (None, 1500)              0         \n",
      "                                                                 \n",
      " dense_9 (Dense)             (None, 3)                 4503      \n",
      "                                                                 \n",
      "=================================================================\n",
      "Total params: 5490195 (20.94 MB)\n",
      "Trainable params: 5488211 (20.94 MB)\n",
      "Non-trainable params: 1984 (7.75 KB)\n",
      "_________________________________________________________________\n"
     ]
    }
   ],
   "source": [
    "cnn.summary()"
   ]
  },
  {
   "cell_type": "code",
   "execution_count": 48,
   "metadata": {},
   "outputs": [
    {
     "name": "stdout",
     "output_type": "stream",
     "text": [
      "Epoch 1/10\n",
      "29/29 [==============================] - 30s 963ms/step - loss: 0.4807 - accuracy: 0.8133 - val_loss: 1.1930 - val_accuracy: 0.3333\n",
      "Epoch 2/10\n",
      "29/29 [==============================] - 45s 2s/step - loss: 0.2328 - accuracy: 0.9211 - val_loss: 0.9369 - val_accuracy: 0.6233\n",
      "Epoch 3/10\n",
      "29/29 [==============================] - 33s 1s/step - loss: 0.1857 - accuracy: 0.9333 - val_loss: 0.9298 - val_accuracy: 0.4433\n",
      "Epoch 4/10\n",
      "29/29 [==============================] - 46s 2s/step - loss: 0.1360 - accuracy: 0.9478 - val_loss: 0.8619 - val_accuracy: 0.5700\n",
      "Epoch 5/10\n",
      "29/29 [==============================] - 54s 2s/step - loss: 0.0887 - accuracy: 0.9789 - val_loss: 1.0199 - val_accuracy: 0.5700\n",
      "Epoch 6/10\n",
      "29/29 [==============================] - 43s 1s/step - loss: 0.1333 - accuracy: 0.9500 - val_loss: 0.8709 - val_accuracy: 0.6000\n",
      "Epoch 7/10\n",
      "29/29 [==============================] - 31s 1s/step - loss: 0.0877 - accuracy: 0.9756 - val_loss: 0.6566 - val_accuracy: 0.7067\n",
      "Epoch 8/10\n",
      "29/29 [==============================] - 32s 1s/step - loss: 0.0931 - accuracy: 0.9711 - val_loss: 0.7181 - val_accuracy: 0.6833\n",
      "Epoch 9/10\n",
      "29/29 [==============================] - 33s 1s/step - loss: 0.0386 - accuracy: 0.9856 - val_loss: 0.6585 - val_accuracy: 0.6967\n",
      "Epoch 10/10\n",
      "29/29 [==============================] - 33s 1s/step - loss: 0.0398 - accuracy: 0.9844 - val_loss: 0.4097 - val_accuracy: 0.8600\n"
     ]
    }
   ],
   "source": [
    "training_history = cnn.fit(x=training_data,validation_data=validation_set,epochs=10)"
   ]
  },
  {
   "cell_type": "code",
   "execution_count": 49,
   "metadata": {},
   "outputs": [
    {
     "name": "stdout",
     "output_type": "stream",
     "text": [
      "29/29 [==============================] - 9s 320ms/step - loss: 0.3238 - accuracy: 0.8722\n",
      "Training accuracy: 0.8722222447395325\n"
     ]
    }
   ],
   "source": [
    "train_loss, train_acc = cnn.evaluate(training_set)\n",
    "print('Training accuracy:', train_acc)"
   ]
  },
  {
   "cell_type": "code",
   "execution_count": 50,
   "metadata": {},
   "outputs": [
    {
     "name": "stdout",
     "output_type": "stream",
     "text": [
      "10/10 [==============================] - 3s 295ms/step - loss: 0.4097 - accuracy: 0.8600\n",
      "Validation accuracy: 0.8600000143051147\n"
     ]
    }
   ],
   "source": [
    "val_loss, val_acc = cnn.evaluate(validation_set)\n",
    "print('Validation accuracy:', val_acc)"
   ]
  },
  {
   "cell_type": "code",
   "execution_count": null,
   "metadata": {},
   "outputs": [],
   "source": [
    "cnn.save('trained_plant_disease_model.keras')\n",
    "\n",
    "cnn.save('train_leaf_classifier.keras')"
   ]
  },
  {
   "cell_type": "code",
   "execution_count": null,
   "metadata": {},
   "outputs": [],
   "source": []
  }
 ],
 "metadata": {
  "kernelspec": {
   "display_name": "Python 3",
   "language": "python",
   "name": "python3"
  },
  "language_info": {
   "codemirror_mode": {
    "name": "ipython",
    "version": 3
   },
   "file_extension": ".py",
   "mimetype": "text/x-python",
   "name": "python",
   "nbconvert_exporter": "python",
   "pygments_lexer": "ipython3",
   "version": "3.11.11"
  }
 },
 "nbformat": 4,
 "nbformat_minor": 2
}
